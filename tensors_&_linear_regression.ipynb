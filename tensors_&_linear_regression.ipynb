{
 "cells": [
  {
   "cell_type": "code",
   "execution_count": 2,
   "id": "945373bd-dbe7-44b5-98c5-b57483474cdf",
   "metadata": {
    "tags": []
   },
   "outputs": [],
   "source": [
    "import torch\n",
    "import matplotlib.pyplot as plt\n",
    "import numpy as np\n",
    "%matplotlib inline"
   ]
  },
  {
   "cell_type": "code",
   "execution_count": 14,
   "id": "6c4a9369-2d8b-421c-b33b-489c532fdd7d",
   "metadata": {
    "tags": []
   },
   "outputs": [
    {
     "name": "stdout",
     "output_type": "stream",
     "text": [
      "tensor([1, 2, 3])\n"
     ]
    }
   ],
   "source": [
    "first = torch.tensor([1, 2, 3])\n",
    "print(first)"
   ]
  },
  {
   "cell_type": "code",
   "execution_count": 12,
   "id": "e47ecd15-7b00-4458-9b1a-634c8f49b580",
   "metadata": {
    "tags": []
   },
   "outputs": [
    {
     "name": "stdout",
     "output_type": "stream",
     "text": [
      "tensor([[1, 2, 3],\n",
      "        [4, 5, 6]])\n"
     ]
    }
   ],
   "source": [
    "second = torch.tensor([[1, 2, 3], [4, 5, 6]])\n",
    "print(second)"
   ]
  },
  {
   "cell_type": "code",
   "execution_count": 18,
   "id": "bb22fd19-cac2-4a80-b89a-ef2c470ae1bc",
   "metadata": {
    "tags": []
   },
   "outputs": [
    {
     "name": "stdout",
     "output_type": "stream",
     "text": [
      "tensor([[[1, 2, 3]],\n",
      "\n",
      "        [[4, 5, 6]],\n",
      "\n",
      "        [[7, 8, 9]]])\n"
     ]
    }
   ],
   "source": [
    "third = torch.tensor([[[1, 2, 3]], [[4, 5, 6]], [[7, 8, 9]]])\n",
    "print(third)"
   ]
  },
  {
   "cell_type": "code",
   "execution_count": 22,
   "id": "7d9d7973-f0aa-4709-a3c6-11dac33872e1",
   "metadata": {
    "tags": []
   },
   "outputs": [
    {
     "name": "stdout",
     "output_type": "stream",
     "text": [
      "tensor([[1, 2, 3],\n",
      "        [4, 5, 6],\n",
      "        [7, 8, 9]])\n"
     ]
    }
   ],
   "source": [
    "second_test = torch.tensor([[1, 2, 3], [4, 5, 6], [7, 8, 9]])\n",
    "print(second_test)"
   ]
  },
  {
   "cell_type": "code",
   "execution_count": 24,
   "id": "897da4dc-1a0a-45f4-9470-0ccc3e34b9b3",
   "metadata": {
    "tags": []
   },
   "outputs": [
    {
     "name": "stdout",
     "output_type": "stream",
     "text": [
      "tensor([[[1, 2],\n",
      "         [3, 4]],\n",
      "\n",
      "        [[5, 6],\n",
      "         [7, 8]]])\n"
     ]
    }
   ],
   "source": [
    "tensor_3d = torch.tensor([[[1, 2], [3, 4]], [[5, 6], [7, 8]]])\n",
    "print(tensor_3d)"
   ]
  },
  {
   "cell_type": "code",
   "execution_count": 38,
   "id": "9fe5a71e-d37b-449c-9004-fa048ad8a4c1",
   "metadata": {
    "tags": []
   },
   "outputs": [
    {
     "name": "stdout",
     "output_type": "stream",
     "text": [
      "tensor([[-0.2408, -1.4219],\n",
      "        [ 0.1352, -0.2472],\n",
      "        [ 0.1975,  0.3915]])\n",
      "tensor([[ 0.7673,  0.4047, -0.0379, -0.9907,  0.5599, -0.0097],\n",
      "        [ 2.0266,  0.5254, -1.8532, -1.3185, -0.4946,  0.5952]])\n",
      "tensor([[-3.0663, -0.8445,  2.6441,  2.1134,  0.5684, -0.8439],\n",
      "        [-0.3971, -0.0751,  0.4529,  0.1919,  0.1980, -0.1484],\n",
      "        [ 0.9450,  0.2856, -0.7331, -0.7119, -0.0831,  0.2311]])\n"
     ]
    }
   ],
   "source": [
    "a = torch.randn(3, 2)\n",
    "b = torch.randn(2, 6)\n",
    "print(a)\n",
    "print(b)\n",
    "print(a @ b)"
   ]
  },
  {
   "cell_type": "code",
   "execution_count": 40,
   "id": "9a1e45cc-2a59-467f-ae23-ef9f1911ddc3",
   "metadata": {
    "tags": []
   },
   "outputs": [
    {
     "data": {
      "text/plain": [
       "(torch.Size([3, 2]), torch.Size([2, 6]))"
      ]
     },
     "execution_count": 40,
     "metadata": {},
     "output_type": "execute_result"
    }
   ],
   "source": [
    "a.shape, b.shape"
   ]
  },
  {
   "cell_type": "code",
   "execution_count": 44,
   "id": "9741cc7f-c9fe-44af-9b2a-bc391c7b7382",
   "metadata": {
    "tags": []
   },
   "outputs": [
    {
     "name": "stdout",
     "output_type": "stream",
     "text": [
      "tensor([[1, 2, 3],\n",
      "        [4, 5, 6]])\n"
     ]
    }
   ],
   "source": [
    "tensor_2d = torch.tensor([[1, 2, 3], [4, 5, 6]])\n",
    "print(tensor_2d)"
   ]
  },
  {
   "cell_type": "code",
   "execution_count": 46,
   "id": "f65caac4-4fec-4a0f-bb85-13c23c4a46ae",
   "metadata": {
    "tags": []
   },
   "outputs": [
    {
     "name": "stdout",
     "output_type": "stream",
     "text": [
      "tensor([1, 2, 3, 4, 5, 6])\n"
     ]
    }
   ],
   "source": [
    "print(torch.flatten(tensor_2d))"
   ]
  },
  {
   "cell_type": "code",
   "execution_count": 48,
   "id": "29660830-c080-4d2f-bd76-9e2001a17491",
   "metadata": {
    "tags": []
   },
   "outputs": [
    {
     "name": "stdout",
     "output_type": "stream",
     "text": [
      "tensor([1, 2, 3, 4, 5, 6, 7, 8, 9])\n"
     ]
    }
   ],
   "source": [
    "print(torch.flatten(third))"
   ]
  },
  {
   "cell_type": "code",
   "execution_count": 100,
   "id": "8e67ffa3-07d0-40b7-be09-aaebdba87e88",
   "metadata": {
    "tags": []
   },
   "outputs": [],
   "source": [
    "# --------------------- LINEAR REGRESSION BEGINS!! -------------------"
   ]
  },
  {
   "cell_type": "code",
   "execution_count": 50,
   "id": "71a13c1f-f680-41c0-83de-be4e30612f38",
   "metadata": {
    "tags": []
   },
   "outputs": [],
   "source": [
    "import numpy as np"
   ]
  },
  {
   "cell_type": "code",
   "execution_count": 52,
   "id": "1815a953-5ae7-4d2f-9d88-271ea19c0ff3",
   "metadata": {
    "tags": []
   },
   "outputs": [],
   "source": [
    "np.random.seed(42)"
   ]
  },
  {
   "cell_type": "code",
   "execution_count": 68,
   "id": "005b0a1f-05c8-4273-892f-08514e074b5b",
   "metadata": {
    "tags": []
   },
   "outputs": [],
   "source": [
    "X = 2 * np.random.rand(100, 1)\n",
    "y = 4 + 3 * X + np.random.randn(100, 1)\n",
    "# print(X)\n",
    "# print(Y)"
   ]
  },
  {
   "cell_type": "code",
   "execution_count": 98,
   "id": "a609da37-7600-4c76-9d9e-770e5cc1a330",
   "metadata": {
    "tags": []
   },
   "outputs": [
    {
     "name": "stdout",
     "output_type": "stream",
     "text": [
      "36.47487800904165 0.8291125541109662\n"
     ]
    }
   ],
   "source": [
    "beta_0 = 0\n",
    "beta_1 = 1\n",
    "learning_rate = 0.01\n",
    "n = len(X)\n",
    "iterations = 1000\n",
    "# Store the loss values for visualization\n",
    "loss_history = []\n",
    "\n",
    "# Gradient Descent Algorithm\n",
    "for i in range(iterations):\n",
    "    y_pred = beta_0 + beta_1 * X  # Prediction\n",
    "    # Calculate gradients\n",
    "    d_beta_0 = (1/n) * np.sum(y_pred - y)\n",
    "    d_beta_1 = (1/n) * np.sum((y_pred - y) * X)\n",
    "    # Update parameters\n",
    "    beta_0 = beta_0 - learning_rate * d_beta_0\n",
    "    beta_1 = beta_1 - learning_rate * d_beta_1\n",
    "    \n",
    "    # Calculate and store the loss (Mean Squared Error)\n",
    "    loss = (1/n) * np.sum((y_pred - y)**2)\n",
    "    loss_history.append(loss)\n",
    "# print(f\"beta_0 (Intercept): {beta_0}, beta_1 (Slope): {beta_1}\")\n",
    "print(loss_history[0], loss_history[-1])"
   ]
  },
  {
   "cell_type": "code",
   "execution_count": 94,
   "id": "6e542099-c624-4a28-974e-a90d5bb6fe70",
   "metadata": {
    "tags": []
   },
   "outputs": [
    {
     "data": {
      "image/png": "[encoded data removed]",
      "text/plain": [
       "<Figure size 1200x600 with 2 Axes>"
      ]
     },
     "metadata": {},
     "output_type": "display_data"
    }
   ],
   "source": [
    "plt.figure(figsize=(12,6))\n",
    "\n",
    "# Original data points\n",
    "plt.subplot(1, 2, 1)\n",
    "plt.scatter(X, y, color=\"blue\", label=\"Data Points\")\n",
    "plt.plot(X, beta_0 + beta_1 * X, color=\"red\", label=\"Regression Line\")\n",
    "plt.xlabel(\"X\")\n",
    "plt.ylabel(\"y\")\n",
    "plt.title(\"Linear Regression Fit\")\n",
    "plt.legend()\n",
    "\n",
    "# Loss over iterations\n",
    "plt.subplot(1, 2, 2)\n",
    "plt.plot(range(iterations), loss_history, color=\"green\")\n",
    "plt.xlabel(\"Iterations\")\n",
    "plt.ylabel(\"Loss (MSE)\")\n",
    "plt.title(\"Loss Reduction Over Iterations\")\n",
    "\n",
    "plt.tight_layout()\n",
    "plt.show()"
   ]
  },
  {
   "cell_type": "code",
   "execution_count": null,
   "id": "d7252ce2-06b5-4581-b271-70f1dabce88d",
   "metadata": {},
   "outputs": [],
   "source": []
  }
 ],
 "metadata": {
  "kernelspec": {
   "display_name": "GPT-from-scratch",
   "language": "python",
   "name": "gpt-from-scratch"
  },
  "language_info": {
   "codemirror_mode": {
    "name": "ipython",
    "version": 3
   },
   "file_extension": ".py",
   "mimetype": "text/x-python",
   "name": "python",
   "nbconvert_exporter": "python",
   "pygments_lexer": "ipython3",
   "version": "3.12.4"
  }
 },
 "nbformat": 4,
 "nbformat_minor": 5
}
